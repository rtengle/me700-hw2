{
 "cells": [
  {
   "cell_type": "markdown",
   "metadata": {},
   "source": [
    "# Solving Simply Supported Beam w/ Mesh & Beam Classes\n",
    "\n",
    "This notebook ideally serves as a comprehensive guide going over the Mesh and Beam classes developed for Assignment 2 Part 1. These classes are used to construct and solve linear beam systems. This notebook will specifically go over a simple example that will show how to use this to solve any linear beam system."
   ]
  },
  {
   "cell_type": "markdown",
   "metadata": {},
   "source": [
    "The problem that we will be analyzing is a simply supported beam with a load directly at the center:\n",
    "\n",
    "![Problem Diagram](figures/simple_simple_diagram.png)\n",
    "\n",
    "We will simulate this problem by breaking the beam up into two halves connected at a node where the force is being applied. The two end-nodes will have fixed translational and free rotational boundary conditions while the center node will have free translational and fixed rotational boundary conditions. "
   ]
  },
  {
   "cell_type": "markdown",
   "metadata": {},
   "source": [
    "## Class Overview\n",
    "\n",
    "There are two classes used to construct the truss system: ```Mesh``` and ```Beam```.\n",
    "\n",
    "The ```Mesh``` class represents a mesh of nodes connected by elements. Each node has a set of degrees of freedom connected x with some action or force f. These nodes are then connected to each other via elements. These object describe how the x and f of each node relate to each other based on the following equation:\n",
    "\n",
    "```math \n",
    "\\left[\\begin{matrix}\\vec{f}_1 \\\\ \\vec{f}_2\\end{matrix}\\right] = K \\left[\\begin{matrix}\\vec{x}_1 \\\\ \\vec{x}_2\\end{matrix}\\right] \n",
    "```\n",
    "\n",
    "The Mesh class allows you to gather a bunch of these elements connected together into a single system which can be solved all at once. For our system, x will represent the translation and rotation of our nodes while f will represent the forces and moments in our system"
   ]
  },
  {
   "cell_type": "code",
   "execution_count": 1,
   "metadata": {},
   "outputs": [],
   "source": [
    "from mesh import Mesh"
   ]
  },
  {
   "cell_type": "markdown",
   "metadata": {},
   "source": [
    "The ```Beam``` class is used to specifically describe a beam element. The user can pass all the necessary parameters into creating a ```Beam``` object and it will have all the necessary built-in methods to be used with the ```Mesh``` class."
   ]
  },
  {
   "cell_type": "code",
   "execution_count": 2,
   "metadata": {},
   "outputs": [],
   "source": [
    "from beam import Beam"
   ]
  },
  {
   "cell_type": "markdown",
   "metadata": {},
   "source": [
    "Finally, we need to install ```numpy``` since all of our vectors and matrices are stored and passed with ```ndarray```."
   ]
  },
  {
   "cell_type": "code",
   "execution_count": 3,
   "metadata": {},
   "outputs": [],
   "source": [
    "import numpy as np"
   ]
  },
  {
   "cell_type": "markdown",
   "metadata": {},
   "source": [
    "The first thing we do is initialize a ```Mesh```. To do this, all we need to do is specify the number of DoFs at each node. For a beam problem, that number is 6 per node: 3 for each translational DoF and 3 for each rotational DoF."
   ]
  },
  {
   "cell_type": "code",
   "execution_count": 4,
   "metadata": {},
   "outputs": [],
   "source": [
    "mesh = Mesh(6)"
   ]
  },
  {
   "cell_type": "markdown",
   "metadata": {},
   "source": [
    "Next we will define the geometry and loading of our system. This is done through adding nodes to the ```Mesh``` object we created. To start, we define the total force applied at the center node and the total length of the beam:"
   ]
  },
  {
   "cell_type": "code",
   "execution_count": 5,
   "metadata": {},
   "outputs": [],
   "source": [
    "F = 1\n",
    "L = 1"
   ]
  },
  {
   "cell_type": "markdown",
   "metadata": {},
   "source": [
    "Nodes are added to a mesh using four inputs: An integer index starting at 0, the spatial position of the node, the boundary conditions at the node, and optionally any applied forces. \n",
    "\n",
    "The boundary condition formatting is as follows:\n",
    "\n",
    "- If it is any defined number, it specifies the fixed displacement along that DoF\n",
    "- If it is assigned as ```np.nan```, then it is free and the condition is that the total reaction at the node is zero."
   ]
  },
  {
   "cell_type": "code",
   "execution_count": 6,
   "metadata": {},
   "outputs": [],
   "source": [
    "# We begin applying nodes.\n",
    "\n",
    "# If no applied forces are given, it is assumed to be zero. Displacement format follows [x, y, z, rotx, roty, rotz]\n",
    "mesh.add_node(0, np.array([0, 0, 0]), np.array([0, 0, 0, np.nan, np.nan, np.nan]))\n",
    "# Center node. Applied force format follow [Fx, Fy, Fz, Mx, My, Mz]\n",
    "mesh.add_node(1, np.array([L/2, 0, 0]), np.array([np.nan, np.nan, np.nan, 0, 0, 0]), bf=np.array([0, -F, 0, 0, 0, 0]))\n",
    "# End node. Same as the first node just at a different position.\n",
    "mesh.add_node(2, np.array([L, 0, 0]), np.array([0, 0, 0, np.nan, np.nan, np.nan]))"
   ]
  },
  {
   "cell_type": "markdown",
   "metadata": {},
   "source": [
    "We now need to define our beams. Each beam requires the following parameters:\n",
    "\n",
    "- Elastic Modulus E\n",
    "- Constant Cross-Sectional Area A\n",
    "- Cartestian Second Moments of Area Iy and Iz\n",
    "- Polar Second Moment of Area J\n",
    "- Poisson Ratio v"
   ]
  },
  {
   "cell_type": "code",
   "execution_count": 7,
   "metadata": {},
   "outputs": [],
   "source": [
    "E = 1\n",
    "A = 1\n",
    "Iy = 1\n",
    "Iz = 1\n",
    "J = 1\n",
    "v = 0.2"
   ]
  },
  {
   "cell_type": "markdown",
   "metadata": {},
   "source": [
    "With the constants, we can passed it into the ```Beam``` constructor along with an orientation vector. This is just any vector in the xy-plane and is used to determine the orientation of the beam. One this is done, it can be added to the mesh using the ```add_element``` method."
   ]
  },
  {
   "cell_type": "code",
   "execution_count": 8,
   "metadata": {},
   "outputs": [],
   "source": [
    "beam = Beam(E=E, A=A, Iy=Iy, Iz=Iz, J=J, v=v, y=np.array([0, 1, 0]))\n",
    "# Add the connection to the mesh as a beam. We specify the nodes based on the identifier\n",
    "mesh.add_element(beam, 0, 1)\n",
    "mesh.add_element(beam, 1, 2)"
   ]
  },
  {
   "cell_type": "markdown",
   "metadata": {},
   "source": [
    "Once this is done, we can solve our system to get our displacements and reactions."
   ]
  },
  {
   "cell_type": "code",
   "execution_count": 9,
   "metadata": {},
   "outputs": [
    {
     "name": "stdout",
     "output_type": "stream",
     "text": [
      "[ 0.          0.          0.          0.          0.         -0.0625\n",
      "  0.         -0.02083333  0.          0.          0.          0.\n",
      "  0.          0.          0.          0.          0.          0.0625    ]\n",
      "[0.  0.5 0.  0.  0.  0.  0.  0.  0.  0.  0.  0.  0.  0.5 0.  0.  0.  0. ]\n"
     ]
    }
   ],
   "source": [
    "x, f = mesh.solve()\n",
    "\n",
    "print(x)\n",
    "print(f)"
   ]
  },
  {
   "cell_type": "markdown",
   "metadata": {},
   "source": [
    "This problem has an explicit solution. If we compare them, we can see that the ```Mesh``` and ```Beam``` classes are able to successfully solve the system. "
   ]
  },
  {
   "cell_type": "code",
   "execution_count": 10,
   "metadata": {},
   "outputs": [
    {
     "name": "stdout",
     "output_type": "stream",
     "text": [
      "0.0\n",
      "0.0\n"
     ]
    }
   ],
   "source": [
    "tzmax = F*L**2/(16*E*Iz)\n",
    "ymax = -F*L**3/(48*E*Iz)\n",
    "\n",
    "d = np.array([\n",
    "    0, 0, 0,\n",
    "    0, 0, -tzmax,\n",
    "    0, ymax, 0,\n",
    "    0, 0, 0,\n",
    "    0, 0, 0,\n",
    "    0, 0, tzmax\n",
    "])\n",
    "r = np.array([\n",
    "    0, F/2, 0,\n",
    "    0, 0, 0,\n",
    "    0, 0, 0,\n",
    "    0, 0, 0,\n",
    "    0, F/2, 0,\n",
    "    0, 0, 0\n",
    "])\n",
    "\n",
    "print(np.linalg.norm(d - x))\n",
    "print(np.linalg.norm(r - f))"
   ]
  },
  {
   "cell_type": "markdown",
   "metadata": {},
   "source": [
    "# Example 1"
   ]
  },
  {
   "cell_type": "code",
   "execution_count": 11,
   "metadata": {},
   "outputs": [],
   "source": [
    "mesh = Mesh(6)\n",
    "\n",
    "F = np.array([0.1, 0.05, -0.07])\n",
    "M = np.array([0.05, -0.1, 0.25])\n",
    "bf1 = np.append(F, M)\n",
    "\n",
    "mesh.add_node(0, pos=np.array([0, 0, 10]), bc=np.zeros(6))\n",
    "mesh.add_node(1, pos=np.array([15, 0, 10]), bc=np.full(6, np.nan), bf=bf1)\n",
    "mesh.add_node(2, pos=np.array([15, 0, 0]), bc=np.array([0, 0, 0, np.nan, np.nan, np.nan]))"
   ]
  },
  {
   "cell_type": "code",
   "execution_count": 12,
   "metadata": {},
   "outputs": [],
   "source": [
    "b = 0.5\n",
    "h = 1\n",
    "A = b*h\n",
    "Iz = h*b**3/12\n",
    "Iy = b*h**3/12\n",
    "J = 0.02861\n",
    "E = 1000\n",
    "v = 0.3\n",
    "\n",
    "beam1 = Beam(E=E, A=A, Iy=Iy, Iz=Iz, J=J, v=v, y=np.array([0, 0, 1]))\n",
    "beam2 = Beam(E=E, A=A, Iy=Iy, Iz=Iz, J=J, v=v, y=np.array([1, 0, 0]))\n",
    "\n",
    "mesh.add_element(beam1, 0, 1)\n",
    "mesh.add_element(beam2, 1, 2)"
   ]
  },
  {
   "cell_type": "code",
   "execution_count": 13,
   "metadata": {},
   "outputs": [],
   "source": [
    "x, f = mesh.solve()"
   ]
  },
  {
   "cell_type": "code",
   "execution_count": 14,
   "metadata": {},
   "outputs": [
    {
     "data": {
      "text/plain": [
       "array([ 0.1 ,  0.05, -0.07,  0.05, -0.1 ,  0.25])"
      ]
     },
     "execution_count": 14,
     "metadata": {},
     "output_type": "execute_result"
    }
   ],
   "source": [
    "mesh.nodes[1]['object'].f_sol"
   ]
  },
  {
   "cell_type": "code",
   "execution_count": 15,
   "metadata": {},
   "outputs": [
    {
     "data": {
      "text/plain": [
       "array([0., 0., 0., 0., 0., 0.])"
      ]
     },
     "execution_count": 15,
     "metadata": {},
     "output_type": "execute_result"
    }
   ],
   "source": [
    "x[0:6]"
   ]
  },
  {
   "cell_type": "code",
   "execution_count": 16,
   "metadata": {},
   "outputs": [
    {
     "data": {
      "text/plain": [
       "array([ 2.84049953e-03,  1.59843349e+00, -1.30609178e-03, -1.47204342e-01,\n",
       "       -1.67293339e-02,  1.82343349e-01])"
      ]
     },
     "execution_count": 16,
     "metadata": {},
     "output_type": "execute_result"
    }
   ],
   "source": [
    "x[6:12]"
   ]
  },
  {
   "cell_type": "code",
   "execution_count": 17,
   "metadata": {},
   "outputs": [
    {
     "data": {
      "text/plain": [
       "array([ 0.        ,  0.        ,  0.        , -0.16616285,  0.00879074,\n",
       "        0.18234335])"
      ]
     },
     "execution_count": 17,
     "metadata": {},
     "output_type": "execute_result"
    }
   ],
   "source": [
    "x[12:18]"
   ]
  },
  {
   "cell_type": "code",
   "execution_count": 18,
   "metadata": {},
   "outputs": [
    {
     "data": {
      "text/plain": [
       "array([-0.09468332, -0.03420124,  0.00469541,  0.1079876 , -0.02359799,\n",
       "       -0.76301861])"
      ]
     },
     "execution_count": 18,
     "metadata": {},
     "output_type": "execute_result"
    }
   ],
   "source": [
    "f[0:6]"
   ]
  },
  {
   "cell_type": "code",
   "execution_count": 19,
   "metadata": {},
   "outputs": [
    {
     "data": {
      "text/plain": [
       "array([ 0.00000000e+00,  2.08166817e-16,  1.38777878e-17, -1.80411242e-16,\n",
       "        2.77555756e-17, -2.49800181e-16])"
      ]
     },
     "execution_count": 19,
     "metadata": {},
     "output_type": "execute_result"
    }
   ],
   "source": [
    "f[6:12]"
   ]
  },
  {
   "cell_type": "code",
   "execution_count": 20,
   "metadata": {},
   "outputs": [
    {
     "data": {
      "text/plain": [
       "array([-0.00531668, -0.01579876,  0.06530459,  0.        ,  0.        ,\n",
       "        0.        ])"
      ]
     },
     "execution_count": 20,
     "metadata": {},
     "output_type": "execute_result"
    }
   ],
   "source": [
    "f[12:18]"
   ]
  },
  {
   "cell_type": "code",
   "execution_count": null,
   "metadata": {},
   "outputs": [
    {
     "data": {
      "image/png": "[encoded data removed]",
      "text/plain": [
       "<Figure size 640x480 with 1 Axes>"
      ]
     },
     "metadata": {},
     "output_type": "display_data"
    }
   ],
   "source": [
    "import matplotlib.pyplot as plt\n",
    "fig = plt.figure()\n",
    "ax = fig.add_subplot(projection='3d')\n",
    "mesh.plot(ax)\n",
    "ax.set_xlabel('X-Axis')\n",
    "ax.set_ylabel('Y-Axis')\n",
    "ax.set_zlabel('Z-Axis')\n",
    "plt.show()"
   ]
  },
  {
   "cell_type": "markdown",
   "metadata": {},
   "source": [
    "# Example 2"
   ]
  }
 ],
 "metadata": {
  "kernelspec": {
   "display_name": "me700-hw2-env",
   "language": "python",
   "name": "python3"
  },
  "language_info": {
   "codemirror_mode": {
    "name": "ipython",
    "version": 3
   },
   "file_extension": ".py",
   "mimetype": "text/x-python",
   "name": "python",
   "nbconvert_exporter": "python",
   "pygments_lexer": "ipython3",
   "version": "3.12.9"
  }
 },
 "nbformat": 4,
 "nbformat_minor": 2
}
